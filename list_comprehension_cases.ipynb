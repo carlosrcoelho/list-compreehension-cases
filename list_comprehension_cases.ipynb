{
 "cells": [
  {
   "cell_type": "markdown",
   "metadata": {},
   "source": [
    "# Casos de List Compreehension"
   ]
  },
  {
   "cell_type": "code",
   "execution_count": null,
   "metadata": {},
   "outputs": [
    {
     "data": {
      "text/plain": [
       "[24, 10, 16]"
      ]
     },
     "metadata": {},
     "output_type": "display_data"
    }
   ],
   "source": [
    "# 1. Create a code to print the sum of the elements of each of the lists contained in the following list:\n",
    "\n",
    "lista_de_listas = [[4,6,5,9], [1,0,7,2], [3,4,1,8]]\n",
    "\n",
    "soma_lista = []\n",
    "\n",
    "for lista in lista_de_listas:\n",
    "    soma_lista.append(sum(lista))\n",
    "\n",
    "soma_lista"
   ]
  },
  {
   "cell_type": "code",
   "execution_count": null,
   "metadata": {},
   "outputs": [
    {
     "data": {
      "text/plain": [
       "[81, 67, 83]"
      ]
     },
     "metadata": {},
     "output_type": "display_data"
    }
   ],
   "source": [
    "# 2. Create code to generate a list that stores the third element of each tuple contained in the following list of tuples:\n",
    "\n",
    "lista_de_tuplas = [('Pedro', 1.74, 81), ('Júlia', 1.65, 67), ('Otávio', 1.81, 83)]\n",
    "\n",
    "armazena = []\n",
    "\n",
    "for nome, altura, peso in lista_de_tuplas:\n",
    "    #terceiro elemento\n",
    "    armazena.append(peso)\n",
    "\n",
    "armazena"
   ]
  },
  {
   "cell_type": "code",
   "execution_count": null,
   "metadata": {},
   "outputs": [
    {
     "data": {
      "text/plain": [
       "[(0, 'Pedro'), (1, 'Júlia'), (2, 'Otávio'), (3, 'Eduardo')]"
      ]
     },
     "metadata": {},
     "output_type": "display_data"
    }
   ],
   "source": [
    "# 3. From the list: list = ['Pedro', 'Júlia', 'Otávio', 'Eduardo'], create code to generate a list of tuples where each tuple has the first element as the name position in the original list and the second element being the name itself.\n",
    "\n",
    "lista = ['Pedro', 'Júlia', 'Otávio', 'Eduardo']\n",
    "\n",
    "lista_tuplas = []\n",
    "\n",
    "for i in range(len(lista)):\n",
    "    lista_tuplas.append((i, lista[i]))\n",
    "\n",
    "lista_tuplas"
   ]
  },
  {
   "cell_type": "code",
   "execution_count": null,
   "metadata": {},
   "outputs": [
    {
     "data": {
      "text/plain": [
       "[1700, 1400, 1900]"
      ]
     },
     "metadata": {},
     "output_type": "display_data"
    }
   ],
   "source": [
    "# 4. Create a list using list comprehension that stores only the numerical value of each tuple if the first element is 'Apartment', from the following list of tuples:\n",
    "\n",
    "aluguel = [('Apartamento', 1700), ('Apartamento', 1400), ('Casa', 2150), ('Apartamento', 1900), ('Casa', 1100)]\n",
    "\n",
    "lista_apartamento = [valor for tipo, valor in aluguel if tipo == 'Apartamento']\n",
    "lista_apartamento\n"
   ]
  },
  {
   "cell_type": "code",
   "execution_count": null,
   "metadata": {},
   "outputs": [
    {
     "data": {
      "text/plain": [
       "{'Jan': 860,\n",
       " 'Fev': 490,\n",
       " 'Mar': 1010,\n",
       " 'Abr': 780,\n",
       " 'Mai': 900,\n",
       " 'Jun': 630,\n",
       " 'Jul': 590,\n",
       " 'Ago': 770,\n",
       " 'Set': 620,\n",
       " 'Out': 560,\n",
       " 'Nov': 840,\n",
       " 'Dez': 360}"
      ]
     },
     "metadata": {},
     "output_type": "display_data"
    }
   ],
   "source": [
    "#5. Create a dictionary using dict comprehension where the keys are in the list months = ['Jan', 'Feb', 'Mar', 'Apr', 'May', 'Jun', 'Jul', 'Aug ', 'Sep', 'Oct', 'Nov', 'Dec'] and the values ​​are in expense = [860, 490, 1010, 780, 900, 630, 590, 770, 620, 560, 840, 360].\n",
    "\n",
    "meses = ['Jan', 'Fev', 'Mar', 'Abr', 'Mai', 'Jun', 'Jul', 'Ago', 'Set', 'Out', 'Nov', 'Dez']\n",
    "\n",
    "despesa = [860, 490, 1010, 780, 900, 630, 590, 770, 620, 560, 840, 360]\n",
    "\n",
    "gastos = {mes: valor for mes, valor in zip(meses, despesa)}\n",
    "gastos"
   ]
  },
  {
   "cell_type": "code",
   "execution_count": null,
   "metadata": {},
   "outputs": [
    {
     "data": {
      "text/plain": [
       "[8883, 7688, 9544, 8190]"
      ]
     },
     "metadata": {},
     "output_type": "display_data"
    }
   ],
   "source": [
    "# 6. A store has a database with sales information for each representative and each year and needs to filter only data from the year 2022 with sales greater than 6000. The store provided a sample containing only the columns with the years and the sales values ​​so that you can help filter the data using a code:\n",
    "\n",
    "vendas = [('2023', 4093), ('2021', 4320), ('2021', 5959), ('2022', 8883), ('2023', 9859), ('2022', 5141), ('2022', 7688), ('2022', 9544), ('2023', 4794), ('2021', 7178), ('2022', 3030), ('2021', 7471), ('2022', 4226), ('2022', 8190), ('2021', 9680), ('2022', 5616)]\n",
    "\n",
    "# Create a list using list comprehension to filter values ​​from 2022 that are greater than 6000.\n",
    "\n",
    "vendas_2022 = [valor for ano, valor in vendas if ano == '2022' and valor > 6000]\n",
    "vendas_2022\n",
    "\n"
   ]
  },
  {
   "cell_type": "code",
   "execution_count": null,
   "metadata": {},
   "outputs": [
    {
     "data": {
      "text/plain": [
       "[('Diabetes', 129),\n",
       " ('Normal', 82),\n",
       " ('Hipoglicemia', 60),\n",
       " ('Normal', 97),\n",
       " ('Alterada', 101),\n",
       " ('Hipoglicemia', 65),\n",
       " ('Hipoglicemia', 62),\n",
       " ('Diabetes', 167),\n",
       " ('Normal', 87),\n",
       " ('Hipoglicemia', 53),\n",
       " ('Hipoglicemia', 58),\n",
       " ('Normal', 92),\n",
       " ('Hipoglicemia', 66),\n",
       " ('Alterada', 120),\n",
       " ('Alterada', 109),\n",
       " ('Hipoglicemia', 62),\n",
       " ('Normal', 86),\n",
       " ('Normal', 96),\n",
       " ('Alterada', 103),\n",
       " ('Normal', 88),\n",
       " ('Diabetes', 155),\n",
       " ('Hipoglicemia', 52),\n",
       " ('Normal', 89),\n",
       " ('Normal', 73)]"
      ]
     },
     "metadata": {},
     "output_type": "display_data"
    }
   ],
   "source": [
    "# 7. A clinic analyzes patient data and stores the numerical glucose value in a database and would like to label the data as follows:\n",
    "\n",
    "# Glucose equal to or less than 70: 'Hypoglycemia'\n",
    "# Glucose between 70 and 99: 'Normal'\n",
    "# Glucose between 100 and 125: 'Changed'\n",
    "# Glucose above 125: 'Diabetes'\n",
    "# The clinic has made part of the values ​​available and your task is to create a list of tuples using list comprehension containing the label and blood glucose value in each tuple.\n",
    "\n",
    "\n",
    "glicemia = [129, 82, 60, 97, 101, 65, 62, 167, 87, 53, 58, 92, 66, 120, 109, 62, 86, 96, 103, 88, 155, 52, 89, 73]\n",
    "\n",
    "rotulos = [('Hipoglicemia', valor) if valor <= 70 else ('Normal', valor) if valor <= 99 else ('Alterada', valor) if valor <= 125 else ('Diabetes', valor) for valor in glicemia]\n",
    "rotulos"
   ]
  },
  {
   "cell_type": "code",
   "execution_count": null,
   "metadata": {},
   "outputs": [
    {
     "data": {
      "text/plain": [
       "[('id', 'quantidade', 'preco', 'total'),\n",
       " (0, 15, 93.0, 1395.0),\n",
       " (1, 12, 102.0, 1224.0),\n",
       " (2, 1, 18.0, 18.0),\n",
       " (3, 15, 41.0, 615.0),\n",
       " (4, 2, 122.0, 244.0),\n",
       " (5, 11, 14.0, 154.0),\n",
       " (6, 2, 71.0, 142.0),\n",
       " (7, 12, 48.0, 576.0),\n",
       " (8, 2, 14.0, 28.0),\n",
       " (9, 4, 144.0, 576.0)]"
      ]
     },
     "metadata": {},
     "output_type": "display_data"
    }
   ],
   "source": [
    "# 8. An e-commerce has sales ID, quantity sold and product price information divided into the following lists:\n",
    "\n",
    "id = [0, 1, 2, 3, 4, 5, 6, 7, 8, 9]\n",
    "quantidade = [15, 12, 1, 15, 2, 11, 2, 12, 2, 4]\n",
    "preco = [93.0, 102.0, 18.0, 41.0, 122.0, 14.0, 71.0, 48.0, 14.0, 144.0]\n",
    "\n",
    "# E-commerce needs to structure this data in a table containing the total value of the sale, which is obtained by multiplying the quantity by the unit price. Furthermore, the table must contain a header indicating the columns: 'id', 'quantity', 'price' and 'total'.\n",
    "\n",
    "# Create a list of tuples in which each tuple has id, quantity, price and total value, in which the first tuple is the table header.\n",
    "\n",
    "tabela_ecomerce = [('id', 'quantidade', 'preco', 'total')] + [(id, qtd, preco, qtd * preco) for id, qtd, preco in zip(id, quantidade, preco)]\n",
    "tabela_ecomerce"
   ]
  },
  {
   "cell_type": "code",
   "execution_count": null,
   "metadata": {},
   "outputs": [
    {
     "data": {
      "text/plain": [
       "{'SP': 8, 'ES': 6, 'MG': 7, 'RJ': 2}"
      ]
     },
     "metadata": {},
     "output_type": "display_data"
    }
   ],
   "source": [
    "# 9. A company has branches spread across the states in the Southeast region of Brazil. In one of the branch registration tables there is a column containing information on which State it belongs to:\n",
    "\n",
    "estados = ['SP', 'ES', 'MG', 'MG', 'SP', 'MG', 'ES', 'ES', 'ES', 'SP', 'SP', 'MG', 'ES', 'SP', 'RJ', 'MG', 'RJ', 'SP', 'MG', 'SP', 'ES', 'SP', 'MG']\n",
    "\n",
    "# The company is always opening new branches, so the table is constantly receiving new records and the manager would like to have updated information on the number of branches in each state.\n",
    "\n",
    "# From the column with the States information, create a dictionary using dict comprehension with the key being the name of a State and the value being the count of times the State appears in the list.\n",
    "\n",
    "contagem_estados = {estado: estados.count(estado) for estado in estados}\n",
    "contagem_estados"
   ]
  },
  {
   "cell_type": "code",
   "execution_count": null,
   "metadata": {},
   "outputs": [
    {
     "data": {
      "text/plain": [
       "['MG', 'ES', 'SP', 'RJ']"
      ]
     },
     "metadata": {},
     "output_type": "display_data"
    }
   ],
   "source": [
    "# 10. In the same branch registration table, there is a column with information on the number of people collaborating and the manager would like to have a grouping of the sum of these people for each state. The information contained in the table is:\n",
    "\n",
    "funcionarios = [('SP', 16), ('ES', 8), ('MG', 9), ('MG', 6), ('SP', 10), ('MG', 4), ('ES',9), ('ES', 7), ('ES', 12), ('SP', 7), ('SP', 11), ('MG',8), ('ES',8), ('SP',9), ('RJ', 13), ('MG', 5), ('RJ', 9), ('SP', 12), ('MG', 10), ('SP', 7), ('ES', 14), ('SP', 10), ('MG', 12)]\n",
    "\n",
    "# From the list of tuples, create a dictionary in which the keys are the names of unique States and the values ​​are the lists with the number of collaborators referring to the State. Also create a dictionary in which the keys are the names of the States and the values ​​are the sum of employees per State.\n",
    "\n",
    "estados_unicos = list(set(estados))\n",
    "estados_unicos"
   ]
  },
  {
   "cell_type": "code",
   "execution_count": null,
   "metadata": {},
   "outputs": [
    {
     "data": {
      "text/plain": [
       "{'MG': [9, 6, 4, 8, 5, 10, 12],\n",
       " 'ES': [8, 9, 7, 12, 8, 14],\n",
       " 'SP': [16, 10, 7, 11, 9, 12, 7, 10],\n",
       " 'RJ': [13, 9]}"
      ]
     },
     "metadata": {},
     "output_type": "display_data"
    }
   ],
   "source": [
    "# Creating a dictionary with data grouped by employee by state\n",
    "\n",
    "funcionarios_estados = {estado: [funcionarios[i][1] for i in range(len(funcionarios)) if funcionarios[i][0] == estado] for estado in estados_unicos}\n",
    "funcionarios_estados"
   ]
  },
  {
   "cell_type": "code",
   "execution_count": null,
   "metadata": {},
   "outputs": [
    {
     "data": {
      "text/plain": [
       "{'MG': 54, 'ES': 58, 'SP': 82, 'RJ': 22}"
      ]
     },
     "metadata": {},
     "output_type": "display_data"
    }
   ],
   "source": [
    "# Creating a dictionary with the sum of employees per state\n",
    "\n",
    "soma_funcionarios = {estado: sum(funcionarios[i][1] for i in range(len(funcionarios)) if funcionarios[i][0] == estado) for estado in estados_unicos}\n",
    "soma_funcionarios"
   ]
  }
 ],
 "metadata": {
  "kernelspec": {
   "display_name": "Python 3",
   "language": "python",
   "name": "python3"
  },
  "language_info": {
   "name": "python",
   "version": "3.10.12"
  }
 },
 "nbformat": 4,
 "nbformat_minor": 2
}
